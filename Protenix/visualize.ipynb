{
 "cells": [
  {
   "cell_type": "code",
   "execution_count": 6,
   "metadata": {},
   "outputs": [
    {
     "name": "stdout",
     "output_type": "stream",
     "text": [
      "Enabling notebook extension nglview-js-widgets/extension...\n",
      "      - Validating: \u001b[32mOK\u001b[0m\n"
     ]
    }
   ],
   "source": [
    "# !pip install nglview\n",
    "!jupyter-nbextension enable nglview --py --sys-prefix"
   ]
  },
  {
   "cell_type": "code",
   "execution_count": null,
   "metadata": {},
   "outputs": [
    {
     "name": "stdout",
     "output_type": "stream",
     "text": [
      "Requirement already satisfied: biopython in /home/swyun/miniconda3/envs/af3/lib/python3.10/site-packages (1.83)\n",
      "Requirement already satisfied: numpy in /home/swyun/miniconda3/envs/af3/lib/python3.10/site-packages (from biopython) (1.26.3)\n"
     ]
    }
   ],
   "source": [
    "!pip install biopython"
   ]
  },
  {
   "cell_type": "code",
   "execution_count": null,
   "metadata": {},
   "outputs": [
    {
     "data": {
      "application/vnd.jupyter.widget-view+json": {
       "model_id": "97cf25b8731d433194739fc2b7ea804f",
       "version_major": 2,
       "version_minor": 0
      },
      "text/plain": [
       "NGLWidget()"
      ]
     },
     "metadata": {},
     "output_type": "display_data"
    }
   ],
   "source": [
    "# 1. Install dependencies (run once in your environment)\n",
    "# pip install biopython nglview\n",
    "\n",
    "# 2. Import the necessary modules\n",
    "from Bio.PDB.MMCIFParser import MMCIFParser\n",
    "import nglview as nv\n",
    "\n",
    "# 3. Parse your mmCIF file\n",
    "parser    = MMCIFParser(QUIET=True)\n",
    "structure = parser.get_structure(\"prot_dna_complex\", \"/playpen/hongxuan/DNA_Protein/Protenix/structures/Protein-DNA Complex/seed_10/predictions/Protein-DNA Complex_seed_10_sample_0.cif\")  # replace with your file path\n",
    "\n",
    "# 4. Create and display the 3D view\n",
    "view = nv.show_biopython(structure)  # nglview reads the Biopython Structure object[3]\n",
    "view.add_cartoon(selection=\"protein\", color=\"blue\")        # draw protein as blue cartoon\n",
    "view.add_ball_and_stick(selection=\"nucleic\", color=\"orange\")  # draw DNA as orange sticks\n",
    "view\n"
   ]
  },
  {
   "cell_type": "code",
   "execution_count": 8,
   "metadata": {},
   "outputs": [
    {
     "name": "stdout",
     "output_type": "stream",
     "text": [
      "Visualization saved as protein_dna_complex_visualization.html\n"
     ]
    }
   ],
   "source": [
    "# 导入必要模块\n",
    "from Bio.PDB.MMCIFParser import MMCIFParser\n",
    "import nglview as nv\n",
    "\n",
    "# 解析 mmCIF 文件\n",
    "parser = MMCIFParser(QUIET=True)\n",
    "structure = parser.get_structure(\"prot_dna_complex\", \"/playpen/hongxuan/DNA_Protein/Protenix/structures/Protein-DNA Complex/seed_10/predictions/Protein-DNA Complex_seed_10_sample_3.cif\")\n",
    "\n",
    "# 创建 nglview 视图\n",
    "view = nv.show_biopython(structure)\n",
    "view.add_cartoon(selection=\"protein\", color=\"blue\")\n",
    "view.add_ball_and_stick(selection=\"nucleic\", color=\"orange\")\n",
    "\n",
    "# 保存为 HTML 文件 - 注意这里使用 nv.write_html 而非 view.write_html\n",
    "html_file_path = \"protein_dna_complex_visualization.html\"\n",
    "nv.write_html(html_file_path, view)  # 正确用法是模块函数，不是对象方法\n",
    "\n",
    "print(f\"Visualization saved as {html_file_path}\")\n",
    "\n"
   ]
  },
  {
   "cell_type": "code",
   "execution_count": 10,
   "metadata": {},
   "outputs": [
    {
     "name": "stdout",
     "output_type": "stream",
     "text": [
      "Converted /playpen/hongxuan/DNA_Protein/Protenix/structures/Protein-DNA Complex/seed_10/predictions/Protein-DNA Complex_seed_10_sample_0.cif → /playpen/hongxuan/DNA_Protein/Protenix/structures/Protein-DNA Complex/seed_10/predictions/Protein-DNA Complex_seed_10_sample_0.pdb\n"
     ]
    }
   ],
   "source": [
    "#!/usr/bin/env python3\n",
    "\"\"\"\n",
    "Convert an mmCIF file to PDB format using BioPython.\n",
    "\"\"\"\n",
    "\n",
    "from Bio.PDB import MMCIFParser, PDBIO\n",
    "\n",
    "def convert_cif_to_pdb(cif_path: str, pdb_path: str):\n",
    "    parser = MMCIFParser(QUIET=True)\n",
    "    structure_id = cif_path.rsplit('/', 1)[-1].split('.')[0]\n",
    "    structure = parser.get_structure(structure_id, cif_path)\n",
    "    io = PDBIO()\n",
    "    io.set_structure(structure)\n",
    "    io.save(pdb_path)\n",
    "    print(f\"Converted {cif_path} → {pdb_path}\")\n",
    "\n",
    "# ─────────── Edit the paths below ───────────\n",
    "input_cif  = \"/playpen/hongxuan/DNA_Protein/Protenix/structures/Protein-DNA Complex/seed_10/predictions/Protein-DNA Complex_seed_10_sample_0.cif\"\n",
    "output_pdb = \"/playpen/hongxuan/DNA_Protein/Protenix/structures/Protein-DNA Complex/seed_10/predictions/Protein-DNA Complex_seed_10_sample_0.pdb\"\n",
    "\n",
    "# Perform conversion\n",
    "convert_cif_to_pdb(input_cif, output_pdb)\n"
   ]
  },
  {
   "cell_type": "code",
   "execution_count": null,
   "metadata": {},
   "outputs": [],
   "source": [
    "#!/usr/bin/env python3\n",
    "import os\n",
    "import numpy as np\n",
    "import pandas as pd\n",
    "import matplotlib.pyplot as plt\n",
    "from matplotlib import rc\n",
    "import seaborn as sns\n",
    "from Bio.PDB import PDBParser\n",
    "\n",
    "# ─────────── Edit this ───────────\n",
    "PDB_FILE = \"/playpen/hongxuan/DNA_Protein/Protenix/structures/Protein-DNA Complex/seed_10/predictions/Protein-DNA Complex_seed_10_sample_0.pdb\"  # ← change to your PDB path, e.g. \"myprotein.pdb\"\n",
    "# ─────────────────────────────────\n",
    "\n",
    "# styling\n",
    "sns.set_theme()\n",
    "sns.set_style(\"ticks\")\n",
    "rc('font', **{'family':'sans-serif','sans-serif':['Helvetica']})\n",
    "\n",
    "# derive base name\n",
    "base = os.path.splitext(os.path.basename(PDB_FILE))[0]\n",
    "cwd = os.getcwd()\n",
    "\n",
    "# parse structure\n",
    "parser = PDBParser(QUIET=True)\n",
    "model = parser.get_structure(base, PDB_FILE)[0]\n",
    "\n",
    "# filter out hydrogens\n",
    "atoms = [a for a in model.get_atoms() if a.element != 'H']\n",
    "\n",
    "# load data arrays (must be named like <base>_v_prot.npy, etc.)\n",
    "v_prot_all = np.load(os.path.join(cwd, f\"{base}_v_prot.npy\"))\n",
    "interface_atoms = np.load(os.path.join(cwd, f\"{base}_edge_index.npy\"))[0]\n",
    "diffs = np.load(os.path.join(cwd, f\"{base}_diffs.npy\"))\n",
    "diffs = diffs / diffs.max()\n",
    "\n",
    "# map (x,y) → atom\n",
    "atom_dict = {\n",
    "    tuple(f\"{c:.2f}\" for c in atom.coord[:2]): atom\n",
    "    for atom in atoms\n",
    "}\n",
    "\n",
    "# collect per‐residue diffs\n",
    "per_res = {}\n",
    "for i, coord in enumerate(v_prot_all[interface_atoms]):\n",
    "    key2 = tuple(f\"{c:.2f}\" for c in coord[:2])\n",
    "    atom = atom_dict.get(key2)\n",
    "    if not atom:\n",
    "        continue\n",
    "    res = atom.get_parent()\n",
    "    chain = res.get_parent().get_id()\n",
    "    res_id = f\"{res.get_resname()}{res.get_id()[1]}{chain}\"\n",
    "    per_res.setdefault(res_id, []).append(diffs[i])\n",
    "\n",
    "# compute avg & max for each residue\n",
    "final = {\n",
    "    res: [np.mean(vals), np.max(vals)]\n",
    "    for res, vals in per_res.items()\n",
    "}\n",
    "\n",
    "# build DataFrame\n",
    "df = pd.DataFrame.from_dict(final, orient='index', columns=['Average','Max'])\n",
    "df = df.reset_index().melt(id_vars='index', var_name='Metric', value_name='Value')\n",
    "\n",
    "# order residues by Max descending\n",
    "order = df[df.Metric=='Max'].sort_values('Value', ascending=False)['index']\n",
    "\n",
    "# plot top 20\n",
    "fig, ax = plt.subplots(figsize=(8,4))\n",
    "palette = {\"Average\": \"black\", \"Max\": \"firebrick\"}\n",
    "sns.barplot(\n",
    "    x='index', y='Value', hue='Metric', data=df,\n",
    "    order=order[:20], palette=palette, ax=ax\n",
    ")\n",
    "ax.set_xticklabels(ax.get_xticklabels(), rotation=45, ha='right', fontsize=12)\n",
    "ax.set_xlabel(\"Interface residue\")\n",
    "ax.set_ylabel(\"Importance\")\n",
    "ax.legend(title=\"\")\n",
    "plt.tight_layout()\n",
    "\n",
    "# save\n",
    "out_svg = f\"{base}_interface_importance.svg\"\n",
    "fig.savefig(out_svg)\n",
    "print(f\"Saved plot to {out_svg}\")"
   ]
  },
  {
   "cell_type": "code",
   "execution_count": 12,
   "metadata": {},
   "outputs": [
    {
     "name": "stdout",
     "output_type": "stream",
     "text": [
      "Collecting seaborn\n",
      "  Using cached seaborn-0.13.2-py3-none-any.whl.metadata (5.4 kB)\n",
      "Requirement already satisfied: numpy!=1.24.0,>=1.20 in /home/swyun/miniconda3/envs/af3/lib/python3.10/site-packages (from seaborn) (1.26.3)\n",
      "Requirement already satisfied: pandas>=1.2 in /home/swyun/miniconda3/envs/af3/lib/python3.10/site-packages (from seaborn) (1.5.3)\n",
      "Requirement already satisfied: matplotlib!=3.6.1,>=3.4 in /home/swyun/miniconda3/envs/af3/lib/python3.10/site-packages (from seaborn) (3.9.2)\n",
      "Requirement already satisfied: contourpy>=1.0.1 in /home/swyun/miniconda3/envs/af3/lib/python3.10/site-packages (from matplotlib!=3.6.1,>=3.4->seaborn) (1.3.2)\n",
      "Requirement already satisfied: cycler>=0.10 in /home/swyun/miniconda3/envs/af3/lib/python3.10/site-packages (from matplotlib!=3.6.1,>=3.4->seaborn) (0.12.1)\n",
      "Requirement already satisfied: fonttools>=4.22.0 in /home/swyun/miniconda3/envs/af3/lib/python3.10/site-packages (from matplotlib!=3.6.1,>=3.4->seaborn) (4.57.0)\n",
      "Requirement already satisfied: kiwisolver>=1.3.1 in /home/swyun/miniconda3/envs/af3/lib/python3.10/site-packages (from matplotlib!=3.6.1,>=3.4->seaborn) (1.4.8)\n",
      "Requirement already satisfied: packaging>=20.0 in /home/swyun/miniconda3/envs/af3/lib/python3.10/site-packages (from matplotlib!=3.6.1,>=3.4->seaborn) (25.0)\n",
      "Requirement already satisfied: pillow>=8 in /home/swyun/miniconda3/envs/af3/lib/python3.10/site-packages (from matplotlib!=3.6.1,>=3.4->seaborn) (11.2.1)\n",
      "Requirement already satisfied: pyparsing>=2.3.1 in /home/swyun/miniconda3/envs/af3/lib/python3.10/site-packages (from matplotlib!=3.6.1,>=3.4->seaborn) (3.2.3)\n",
      "Requirement already satisfied: python-dateutil>=2.7 in /home/swyun/miniconda3/envs/af3/lib/python3.10/site-packages (from matplotlib!=3.6.1,>=3.4->seaborn) (2.9.0.post0)\n",
      "Requirement already satisfied: pytz>=2020.1 in /home/swyun/miniconda3/envs/af3/lib/python3.10/site-packages (from pandas>=1.2->seaborn) (2025.2)\n",
      "Requirement already satisfied: six>=1.5 in /home/swyun/miniconda3/envs/af3/lib/python3.10/site-packages (from python-dateutil>=2.7->matplotlib!=3.6.1,>=3.4->seaborn) (1.17.0)\n",
      "Using cached seaborn-0.13.2-py3-none-any.whl (294 kB)\n",
      "Installing collected packages: seaborn\n",
      "Successfully installed seaborn-0.13.2\n"
     ]
    }
   ],
   "source": [
    "!pip install seaborn"
   ]
  }
 ],
 "metadata": {
  "kernelspec": {
   "display_name": "af3",
   "language": "python",
   "name": "python3"
  },
  "language_info": {
   "codemirror_mode": {
    "name": "ipython",
    "version": 3
   },
   "file_extension": ".py",
   "mimetype": "text/x-python",
   "name": "python",
   "nbconvert_exporter": "python",
   "pygments_lexer": "ipython3",
   "version": "3.10.17"
  }
 },
 "nbformat": 4,
 "nbformat_minor": 2
}
