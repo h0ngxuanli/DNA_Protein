{
 "cells": [
  {
   "cell_type": "code",
   "execution_count": null,
   "metadata": {},
   "outputs": [],
   "source": [
    "from pathlib import Path\n",
    "from Bio import SeqIO\n",
    "\n",
    "# 配置路径\n",
    "input_fasta = \"/playpen/hongxuan/DNA_Protein/sequences/test.fasta\"\n",
    "target = Path(\"/playpen/hongxuan/DNA_Protein/Sequences\")\n",
    "dna_dir = target / \"DNA\"\n",
    "prot_dir = target / \"Protein\"\n",
    "dna_dir.mkdir(parents=True, exist_ok=True)\n",
    "prot_dir.mkdir(parents=True, exist_ok=True)\n",
    "\n",
    "# 简单根据 record.id 判断是 DNA 还是 protein，可根据实际 id 规则修改\n",
    "is_dna = lambda rid: \"dna\" in rid.lower()\n",
    "\n",
    "for rec in SeqIO.parse(input_fasta, \"fasta\"):\n",
    "    out = dna_dir if is_dna(rec.id) else prot_dir\n",
    "    SeqIO.write(rec, out / f\"{rec.id}.fasta\", \"fasta\")"
   ]
  }
 ],
 "metadata": {
  "kernelspec": {
   "display_name": "af3",
   "language": "python",
   "name": "python3"
  },
  "language_info": {
   "name": "python",
   "version": "3.10.17"
  }
 },
 "nbformat": 4,
 "nbformat_minor": 2
}
